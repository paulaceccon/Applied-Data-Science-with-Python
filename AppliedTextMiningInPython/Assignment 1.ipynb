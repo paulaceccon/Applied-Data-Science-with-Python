{
 "cells": [
  {
   "cell_type": "markdown",
   "metadata": {},
   "source": [
    "---\n",
    "\n",
    "_You are currently looking at **version 1.0** of this notebook. To download notebooks and datafiles, as well as get help on Jupyter notebooks in the Coursera platform, visit the [Jupyter Notebook FAQ](https://www.coursera.org/learn/python-text-mining/resources/d9pwm) course resource._\n",
    "\n",
    "---"
   ]
  },
  {
   "cell_type": "markdown",
   "metadata": {},
   "source": [
    "# Assignment 1\n",
    "\n",
    "In this assignment, you'll be working with messy medical data and using regex to extract relevant infromation from the data. \n",
    "\n",
    "Each line of the `dates.txt` file corresponds to a medical note. Each note has a date that needs to be extracted, but each date is encoded in one of many formats.\n",
    "\n",
    "The goal of this assignment is to correctly identify all of the different date variants encoded in this dataset and to properly normalize and sort the dates. \n",
    "\n",
    "Here is a list of some of the variants you might encounter in this dataset:\n",
    "* 04/20/2009; 04/20/09; 4/20/09; 4/3/09\n",
    "* Mar-20-2009; Mar 20, 2009; March 20, 2009;  Mar. 20, 2009; Mar 20 2009;\n",
    "* 20 Mar 2009; 20 March 2009; 20 Mar. 2009; 20 March, 2009\n",
    "* Mar 20th, 2009; Mar 21st, 2009; Mar 22nd, 2009\n",
    "* Feb 2009; Sep 2009; Oct 2010\n",
    "* 6/2008; 12/2009\n",
    "* 2009; 2010\n",
    "\n",
    "Once you have extracted these date patterns from the text, the next step is to sort them in ascending chronological order accoring to the following rules:\n",
    "* Assume all dates in xx/xx/xx format are mm/dd/yy\n",
    "* Assume all dates where year is encoded in only two digits are years from the 1900's (e.g. 1/5/89 is January 5th, 1989)\n",
    "* If the day is missing (e.g. 9/2009), assume it is the first day of the month (e.g. September 1, 2009).\n",
    "* If the month is missing (e.g. 2010), assume it is the first of January of that year (e.g. January 1, 2010).\n",
    "\n",
    "With these rules in mind, find the correct date in each note and return a pandas Series in chronological order of the original Series' indices.\n",
    "\n",
    "For example if the original series was this:\n",
    "\n",
    "    0    1999\n",
    "    1    2010\n",
    "    2    1978\n",
    "    3    2015\n",
    "    4    1985\n",
    "\n",
    "Your function should return this:\n",
    "\n",
    "    0    2\n",
    "    1    4\n",
    "    2    0\n",
    "    3    1\n",
    "    4    3\n",
    "\n",
    "Your score will be calculated using [Kendall's tau](https://en.wikipedia.org/wiki/Kendall_rank_correlation_coefficient), a correlation measure for ordinal data.\n",
    "\n",
    "*This function should return a Series of length 500 and dtype int.*"
   ]
  },
  {
   "cell_type": "code",
   "execution_count": 1,
   "metadata": {},
   "outputs": [
    {
     "data": {
      "text/plain": [
       "0         03/25/93 Total time of visit (in minutes):\\n\n",
       "1                       6/18/85 Primary Care Doctor:\\n\n",
       "2    sshe plans to move as of 7/8/71 In-Home Servic...\n",
       "3                7 on 9/27/75 Audit C Score Current:\\n\n",
       "4    2/6/96 sleep studyPain Treatment Pain Level (N...\n",
       "5                    .Per 7/06/79 Movement D/O note:\\n\n",
       "6    4, 5/18/78 Patient's thoughts about current su...\n",
       "7    10/24/89 CPT Code: 90801 - Psychiatric Diagnos...\n",
       "8                         3/7/86 SOS-10 Total Score:\\n\n",
       "9             (4/10/71)Score-1Audit C Score Current:\\n\n",
       "dtype: object"
      ]
     },
     "execution_count": 1,
     "metadata": {},
     "output_type": "execute_result"
    }
   ],
   "source": [
    "import pandas as pd\n",
    "\n",
    "doc = []\n",
    "with open('dates.txt') as file:\n",
    "    for line in file:\n",
    "        doc.append(line)\n",
    "\n",
    "df = pd.Series(doc)\n",
    "df.head(10)"
   ]
  },
  {
   "cell_type": "code",
   "execution_count": 2,
   "metadata": {},
   "outputs": [
    {
     "data": {
      "text/plain": [
       "490                                  Lab: B12 969 2007\\n\n",
       "491                                   )and 8mo in 2009\\n\n",
       "492    .Moved to USA in 1986. Suffered from malnutrit...\n",
       "493                                              r1978\\n\n",
       "494    . Went to Emerson, in Newfane Alaska. Started ...\n",
       "495    1979 Family Psych History: Family History of S...\n",
       "496    therapist and friend died in ~2006 Parental/Ca...\n",
       "497                         2008 partial thyroidectomy\\n\n",
       "498    sPt describes a history of sexual abuse as a c...\n",
       "499    . In 1980, patient was living in Naples and de...\n",
       "dtype: object"
      ]
     },
     "execution_count": 2,
     "metadata": {},
     "output_type": "execute_result"
    }
   ],
   "source": [
    "df.tail(10)"
   ]
  },
  {
   "cell_type": "code",
   "execution_count": 3,
   "metadata": {},
   "outputs": [
    {
     "data": {
      "text/plain": [
       "0          03/25/93 Total time of visit (in minutes):\\n\n",
       "1                        6/18/85 Primary Care Doctor:\\n\n",
       "2     sshe plans to move as of 7/8/71 In-Home Servic...\n",
       "3                 7 on 9/27/75 Audit C Score Current:\\n\n",
       "4     2/6/96 sleep studyPain Treatment Pain Level (N...\n",
       "5                     .Per 7/06/79 Movement D/O note:\\n\n",
       "6     4, 5/18/78 Patient's thoughts about current su...\n",
       "7     10/24/89 CPT Code: 90801 - Psychiatric Diagnos...\n",
       "8                          3/7/86 SOS-10 Total Score:\\n\n",
       "9              (4/10/71)Score-1Audit C Score Current:\\n\n",
       "10    (5/11/85) Crt-1.96, BUN-26; AST/ALT-16/22; WBC...\n",
       "11                        4/09/75 SOS-10 Total Score:\\n\n",
       "12    8/01/98 Communication with referring physician...\n",
       "13    1/26/72 Communication with referring physician...\n",
       "14    5/24/1990 CPT Code: 90792: With medical servic...\n",
       "dtype: object"
      ]
     },
     "execution_count": 3,
     "metadata": {},
     "output_type": "execute_result"
    }
   ],
   "source": [
    "df[:15]"
   ]
  },
  {
   "cell_type": "code",
   "execution_count": 4,
   "metadata": {},
   "outputs": [
    {
     "data": {
      "text/plain": [
       "125    s The patient is a 44 year old married Caucasi...\n",
       "126    .10 Sep 2004 - Intake at EEC for IOP but did n...\n",
       "127    see above and APS eval of 26 May 1982 Social H...\n",
       "128    Tbooked for intake appointment at Sierra Vista...\n",
       "129                    06 May 1972 SOS-10 Total Score:\\n\n",
       "130      25 Oct 1987 Total time of visit (in minutes):\\n\n",
       "131                    14 Oct 1996 SOS-10 Total Score:\\n\n",
       "132    30 Nov 2007 CPT Code: 90801 - Psychiatric Diag...\n",
       "133    h missed intake office visit on 28 June 1994 a...\n",
       "134                    14 Jan 1981 SOS-10 Total Score:\\n\n",
       "dtype: object"
      ]
     },
     "execution_count": 4,
     "metadata": {},
     "output_type": "execute_result"
    }
   ],
   "source": [
    "df[125:135]"
   ]
  },
  {
   "cell_type": "code",
   "execution_count": 5,
   "metadata": {},
   "outputs": [
    {
     "data": {
      "text/plain": [
       "230    B/R Walnut Ridge. Raised with sister and paren...\n",
       "231    50 yo DWF with a history of alcohol use disord...\n",
       "232    )HTN, hypercholesterolemia, DM, sleep apnea,, ...\n",
       "233    Dr. Gloria English, who conducted an initial c...\n",
       "234    . Patient presents with GAD flareup in Jul 200...\n",
       "235    pOct 2015 - Admitted to Gray Clinic for depres...\n",
       "236    Pt does not use marijuana currently. Her last ...\n",
       "237    safter evicted in February 1976, hospitalized ...\n",
       "238    . History of sleep apnea, set up with CPAP in ...\n",
       "239    . In Feb 1978, misdxed with STD- had plan to O...\n",
       "240    )- Venlafaxine 37.5mg daily: May, 2011: self-d...\n",
       "241    sLanguage based learning disorder, dyslexia.  ...\n",
       "242    oFather died in Nov 2010.  Normal grieving.Alc...\n",
       "243    tIn Sep 2012 patient returned to Jinan, moving...\n",
       "244    s Mr. Moss is a 27-year-old, Caucasian, engage...\n",
       "dtype: object"
      ]
     },
     "execution_count": 5,
     "metadata": {},
     "output_type": "execute_result"
    }
   ],
   "source": [
    "df[230:245]"
   ]
  },
  {
   "cell_type": "code",
   "execution_count": 6,
   "metadata": {},
   "outputs": [
    {
     "data": {
      "text/plain": [
       "485    Was \"average\" student.  \"I didn't have too man...\n",
       "486    Contemplating jumping off building - 1973 - di...\n",
       "487    appendectomy s/p delivery 1992 Prior relevant ...\n",
       "488    tProblems renal cell cancer : s/p nephrectomy ...\n",
       "489        ran own business for 35 years, sold in 1985\\n\n",
       "490                                  Lab: B12 969 2007\\n\n",
       "491                                   )and 8mo in 2009\\n\n",
       "492    .Moved to USA in 1986. Suffered from malnutrit...\n",
       "493                                              r1978\\n\n",
       "494    . Went to Emerson, in Newfane Alaska. Started ...\n",
       "495    1979 Family Psych History: Family History of S...\n",
       "496    therapist and friend died in ~2006 Parental/Ca...\n",
       "497                         2008 partial thyroidectomy\\n\n",
       "498    sPt describes a history of sexual abuse as a c...\n",
       "499    . In 1980, patient was living in Naples and de...\n",
       "dtype: object"
      ]
     },
     "execution_count": 6,
     "metadata": {},
     "output_type": "execute_result"
    }
   ],
   "source": [
    "df[485:]"
   ]
  },
  {
   "cell_type": "code",
   "execution_count": 7,
   "metadata": {},
   "outputs": [
    {
     "data": {
      "text/plain": [
       "'HH, Janaury 1993\\n'"
      ]
     },
     "execution_count": 7,
     "metadata": {},
     "output_type": "execute_result"
    }
   ],
   "source": [
    "df[298]"
   ]
  },
  {
   "cell_type": "code",
   "execution_count": 8,
   "metadata": {
    "collapsed": true
   },
   "outputs": [],
   "source": [
    "df = df.str.replace('Janaury', 'January')\n",
    "df = df.str.replace('Decemeber', 'December' )"
   ]
  },
  {
   "cell_type": "code",
   "execution_count": 9,
   "metadata": {},
   "outputs": [
    {
     "data": {
      "text/plain": [
       "'HH, January 1993\\n'"
      ]
     },
     "execution_count": 9,
     "metadata": {},
     "output_type": "execute_result"
    }
   ],
   "source": [
    "df[298]"
   ]
  },
  {
   "cell_type": "code",
   "execution_count": 10,
   "metadata": {
    "collapsed": true
   },
   "outputs": [],
   "source": [
    "import re\n",
    "\n",
    "from dateutil.parser import parse\n",
    "from datetime import datetime"
   ]
  },
  {
   "cell_type": "code",
   "execution_count": 11,
   "metadata": {},
   "outputs": [
    {
     "data": {
      "text/plain": [
       "346                        9/2005 Primary Care Doctor:\\n\n",
       "347    s 03/1980 Positive PPD: treated with INH for 6...\n",
       "348    12/2005 Family Psych History: Family History o...\n",
       "349                        5/1987 Primary Care Doctor:\\n\n",
       "350                        5/2004 Primary Care Doctor:\\n\n",
       "351    A pleasant 28 yo woman with no formal psychiat...\n",
       "352    See initial PROMPTCARE evaluation from 3/1986 ...\n",
       "353                       10/1997 Primary Care Doctor:\\n\n",
       "354    Deviated septum, 3/1993 Activities of Daily Li...\n",
       "355                        3/1981 Primary Care Doctor:\\n\n",
       "356    . Patient states that she will follow up with ...\n",
       "357                           % 10/1993 Echo: LVEF 60%\\n\n",
       "358                              .Mother died, 1/1983.\\n\n",
       "359                                    . GBSG : 7/1994\\n\n",
       "360                       12/2008 Primary Care Doctor:\\n\n",
       "361    n Abnormal CXR : 10/1980 ? scarring @ R heart ...\n",
       "362    md. metabolic montioring as indicated inc. ann...\n",
       "363                       12/1975 Primary Care Doctor:\\n\n",
       "364    sDr. Yaeger at Jarman Memorial Hospital for me...\n",
       "365    sCurrently See Jeremiah Ngo in Omak. Sees 2x m...\n",
       "366    1. Metastatic pancreatic adenocarcinoma, dx: 7...\n",
       "367    rtherapy: Patient states that she will follow ...\n",
       "368             craniotomy 8/1986 Prior relevant labs:\\n\n",
       "369                        1/1978 Primary Care Doctor:\\n\n",
       "370    4 (9/1975)Patient's thoughts about current sub...\n",
       "371    s Pt is a 73-y.o. MWW with a history of recurr...\n",
       "372           7Xitlaly Hobbs OP med mgmt since 5/1995.\\n\n",
       "373    Up until his accident, patient would drink 3-4...\n",
       "374    weight reduction surgery- bariatic sleeve 11/2...\n",
       "375                       06/1973 Primary Care Doctor:\\n\n",
       "376    2/1999; 472 ms re QTcPertinent Medical Review ...\n",
       "377    s Pt. is a 59 y.o. woman w/ hx PTSD and anxiet...\n",
       "378    The pt. is a 45 Y/O F who comes in to discuss ...\n",
       "379                        8/2009 Primary Care Doctor:\\n\n",
       "380    dPer Pt Intake from 7/1973: Sometimes has pass...\n",
       "381           b fibroid tumor resection pending 1/2014\\n\n",
       "382    sOne prior voluntary hospitalization in 09/197...\n",
       "dtype: object"
      ]
     },
     "execution_count": 11,
     "metadata": {},
     "output_type": "execute_result"
    }
   ],
   "source": [
    "df[346:383]"
   ]
  },
  {
   "cell_type": "code",
   "execution_count": 12,
   "metadata": {},
   "outputs": [
    {
     "name": "stderr",
     "output_type": "stream",
     "text": [
      "/opt/conda/lib/python3.6/site-packages/ipykernel/__main__.py:1: FutureWarning: currently extract(expand=None) means expand=False (return Index/Series/DataFrame) but in a future version of pandas this will be changed to expand=True (return DataFrame)\n",
      "  if __name__ == '__main__':\n"
     ]
    }
   ],
   "source": [
    "b = df.str.extract(r'((?:\\d{1,2})(?:(?:\\/|-)\\d{1,2})(?:(?:\\/|-)\\d{2,4}))')"
   ]
  },
  {
   "cell_type": "code",
   "execution_count": 13,
   "metadata": {},
   "outputs": [
    {
     "name": "stderr",
     "output_type": "stream",
     "text": [
      "/opt/conda/lib/python3.6/site-packages/ipykernel/__main__.py:1: FutureWarning: currently extract(expand=None) means expand=False (return Index/Series/DataFrame) but in a future version of pandas this will be changed to expand=True (return DataFrame)\n",
      "  if __name__ == '__main__':\n"
     ]
    }
   ],
   "source": [
    "a = df.str.extract(r'((?:\\d{,2}\\s)?(?:Jan|Feb|Mar|Apr|May|Jun|Jul|Aug|Sep|Oct|Nov|Dec)[a-z]*(?:-|\\.|\\s|,)\\s?\\d{,2}[a-z]*(?:-|,|\\s)?\\s?\\d{2,4})')"
   ]
  },
  {
   "cell_type": "code",
   "execution_count": 14,
   "metadata": {},
   "outputs": [
    {
     "name": "stderr",
     "output_type": "stream",
     "text": [
      "/opt/conda/lib/python3.6/site-packages/ipykernel/__main__.py:1: FutureWarning: currently extract(expand=None) means expand=False (return Index/Series/DataFrame) but in a future version of pandas this will be changed to expand=True (return DataFrame)\n",
      "  if __name__ == '__main__':\n"
     ]
    }
   ],
   "source": [
    "c = df.str.extract(r'((?:\\d{1,2}(?:-|\\/))?\\d{4})')"
   ]
  },
  {
   "cell_type": "code",
   "execution_count": 15,
   "metadata": {},
   "outputs": [
    {
     "data": {
      "text/plain": [
       "218"
      ]
     },
     "execution_count": 15,
     "metadata": {},
     "output_type": "execute_result"
    }
   ],
   "source": [
    "a.notnull().sum()"
   ]
  },
  {
   "cell_type": "code",
   "execution_count": 16,
   "metadata": {},
   "outputs": [
    {
     "data": {
      "text/plain": [
       "125"
      ]
     },
     "execution_count": 16,
     "metadata": {},
     "output_type": "execute_result"
    }
   ],
   "source": [
    "b.notnull().sum()"
   ]
  },
  {
   "cell_type": "code",
   "execution_count": 17,
   "metadata": {},
   "outputs": [
    {
     "data": {
      "text/plain": [
       "428"
      ]
     },
     "execution_count": 17,
     "metadata": {},
     "output_type": "execute_result"
    }
   ],
   "source": [
    "c.notnull().sum()"
   ]
  },
  {
   "cell_type": "code",
   "execution_count": 18,
   "metadata": {
    "collapsed": true
   },
   "outputs": [],
   "source": [
    "p = a.fillna(b)\n",
    "p = p.fillna(c)"
   ]
  },
  {
   "cell_type": "code",
   "execution_count": 19,
   "metadata": {
    "collapsed": true,
    "scrolled": false
   },
   "outputs": [],
   "source": [
    "from dateutil.parser import parse, parserinfo\n",
    "\n",
    "class CustomParserInfo(parserinfo):\n",
    "    def convertyear(self, year, *args, **kwargs):\n",
    "        if year < 100:\n",
    "            year += 1900\n",
    "        return year\n",
    "\n",
    "dflt_date = datetime(1993, 1, 1)\n",
    "d = p.to_dict()\n",
    "for ind, val in d.items():\n",
    "    try:\n",
    "        val = parse(val, default=dflt_date, dayfirst=False, parserinfo=CustomParserInfo())\n",
    "    except ValueError:\n",
    "        print (val)\n",
    "        val = dflt_date\n",
    "    d[ind] = val"
   ]
  },
  {
   "cell_type": "code",
   "execution_count": 20,
   "metadata": {
    "collapsed": true
   },
   "outputs": [],
   "source": [
    "d = sorted(d.items(), key=lambda x: x[1])"
   ]
  },
  {
   "cell_type": "code",
   "execution_count": 21,
   "metadata": {
    "collapsed": true
   },
   "outputs": [],
   "source": [
    "def date_sorter(): \n",
    "    df = pd.DataFrame(d)\n",
    "    df.columns=['order', 'value']\n",
    "       \n",
    "    return df['order']"
   ]
  },
  {
   "cell_type": "code",
   "execution_count": 22,
   "metadata": {},
   "outputs": [
    {
     "data": {
      "text/plain": [
       "0        9\n",
       "1       84\n",
       "2        2\n",
       "3       53\n",
       "4       28\n",
       "5      474\n",
       "6      153\n",
       "7       13\n",
       "8      129\n",
       "9       98\n",
       "10     111\n",
       "11     225\n",
       "12      31\n",
       "13     171\n",
       "14     191\n",
       "15     486\n",
       "16     335\n",
       "17     415\n",
       "18      36\n",
       "19     323\n",
       "20     405\n",
       "21     422\n",
       "22     375\n",
       "23     380\n",
       "24     345\n",
       "25      57\n",
       "26     481\n",
       "27     436\n",
       "28     104\n",
       "29     299\n",
       "      ... \n",
       "470    220\n",
       "471    208\n",
       "472    243\n",
       "473    139\n",
       "474    320\n",
       "475    383\n",
       "476    244\n",
       "477    286\n",
       "478    480\n",
       "479    431\n",
       "480    279\n",
       "481    198\n",
       "482    381\n",
       "483    463\n",
       "484    366\n",
       "485    255\n",
       "486    439\n",
       "487    401\n",
       "488    475\n",
       "489    257\n",
       "490    152\n",
       "491    235\n",
       "492    464\n",
       "493    253\n",
       "494    231\n",
       "495    427\n",
       "496    141\n",
       "497    186\n",
       "498    161\n",
       "499    413\n",
       "Name: order, Length: 500, dtype: int64"
      ]
     },
     "execution_count": 22,
     "metadata": {},
     "output_type": "execute_result"
    }
   ],
   "source": [
    "date_sorter()"
   ]
  }
 ],
 "metadata": {
  "coursera": {
   "course_slug": "python-text-mining",
   "graded_item_id": "LvcWI",
   "launcher_item_id": "krne9",
   "part_id": "Mkp1I"
  },
  "kernelspec": {
   "display_name": "Python 3",
   "language": "python",
   "name": "python3"
  },
  "language_info": {
   "codemirror_mode": {
    "name": "ipython",
    "version": 3
   },
   "file_extension": ".py",
   "mimetype": "text/x-python",
   "name": "python",
   "nbconvert_exporter": "python",
   "pygments_lexer": "ipython3",
   "version": "3.6.1"
  },
  "toc": {
   "nav_menu": {},
   "number_sections": true,
   "sideBar": true,
   "skip_h1_title": false,
   "toc_cell": false,
   "toc_position": {},
   "toc_section_display": "block",
   "toc_window_display": false
  }
 },
 "nbformat": 4,
 "nbformat_minor": 2
}
